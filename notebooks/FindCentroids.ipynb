{
 "cells": [
  {
   "cell_type": "markdown",
   "metadata": {
    "collapsed": true,
    "pycharm": {
     "name": "#%% md\n"
    }
   },
   "source": [
    "# Finding Centroids\n",
    "This notebook is a follow up of the notebook ilastik/pixels_classification_multiple_channels\n",
    "We segment our images using the probability images obtained by ilastik and find the centroids of our objects.\n",
    "\n",
    "## Goal of the analysis\n",
    "We have a number of images from a confocal microscope containing 4 channels (DAPI, 488, 561 and 642). "
   ]
  },
  {
   "cell_type": "markdown",
   "metadata": {},
   "source": [
    "## Prepare the analysis\n",
    "First, we need to import the libraries that we are going to use"
   ]
  },
  {
   "cell_type": "code",
   "execution_count": 1,
   "metadata": {
    "pycharm": {
     "is_executing": false,
     "name": "#%%\n"
    }
   },
   "outputs": [],
   "source": [
    "import os\n",
    "import pickle\n",
    "import numpy as np\n",
    "from skimage.filters import threshold_otsu, apply_hysteresis_threshold\n",
    "from skimage.segmentation import clear_border\n",
    "from skimage.morphology import closing\n",
    "from skimage.measure import label, regionprops\n",
    "from scipy.spatial.distance import cdist\n",
    "from itertools import permutations\n",
    "\n",
    "import ipywidgets as widgets\n",
    "from IPython.display import display\n",
    "import matplotlib.pyplot as plt\n",
    "from getpass import getpass\n",
    "import subprocess\n",
    "import omero_toolbox as omero"
   ]
  },
  {
   "cell_type": "markdown",
   "metadata": {},
   "source": [
    "... and define or request a number of variables that we are going to use in the analysis"
   ]
  },
  {
   "cell_type": "code",
   "execution_count": 2,
   "metadata": {
    "pycharm": {
     "is_executing": false,
     "name": "#%%\n"
    }
   },
   "outputs": [
    {
     "name": "stdout",
     "output_type": "stream",
     "text": [
      "Dataset ID: 14855\n",
      "Group name: MRI-IGH\n",
      "OMERO username:mateos\n",
      "OMERO password:········\n",
      "Connection successful: True\n"
     ]
    }
   ],
   "source": [
    "# the ID if the dataset containing th raw images and the probability images\n",
    "RAW_DATASET_ID = input(\"Dataset ID: \")\n",
    "\n",
    "# The name of the group where the data is stored\n",
    "GROUP = input(\"Group name: \")  # the group where the data is stored\n",
    "\n",
    "# the URL and port of our OMERO server\n",
    "OMERO_SERVER = 'omero.mri.cnrs.fr'\n",
    "# the port to connect to. Default is 4046\n",
    "PORT = 4064\n",
    "\n",
    "# Create a connection\n",
    "conn = omero.open_connection(username=input('OMERO username:'), password=getpass('OMERO password:'),\n",
    "                               group=GROUP, host=OMERO_SERVER, port=PORT, secure=True)\n",
    "print(f'Connection successful: {conn.isConnected()}')\n",
    "\n",
    "# a directory to save temporary files\n",
    "TEMP_DIR = '/run/media/julio/DATA/Quentin/temp'\n",
    "# the path to the ilastik executable\n",
    "ILASTIK_PATH = '/home/julio/Apps/ilastik-1.3.3post3-Linux/run_ilastik.sh'"
   ]
  },
  {
   "cell_type": "markdown",
   "metadata": {},
   "source": [
    "### Explore your data\n",
    "Now we can connect to OMERO, get some information on the dataset that we want to analyze and explore the data."
   ]
  },
  {
   "cell_type": "code",
   "execution_count": 3,
   "metadata": {
    "pycharm": {
     "is_executing": false,
     "name": "#%%\n"
    }
   },
   "outputs": [
    {
     "name": "stdout",
     "output_type": "stream",
     "text": [
      "RAW IMAGES\n",
      "20181012_S2Rplus_FISH_DAPI_X1-A488_X2-A555_X3-A647.lif [Mark_and_Find_001/Position001] Dimensions(z, c, t, x, y): 30, 4, 1, 1576, 1576\n",
      "20181012_S2Rplus_FISH_DAPI_X1-A488_X2-A555_X3-A647.lif [Mark_and_Find_001/Position002] Dimensions(z, c, t, x, y): 30, 4, 1, 1576, 1576\n",
      "20181012_S2Rplus_FISH_DAPI_X1-A488_X2-A555_X3-A647.lif [Mark_and_Find_001/Position003] Dimensions(z, c, t, x, y): 30, 4, 1, 1576, 1576\n",
      "20181012_S2Rplus_FISH_DAPI_X1-A488_X2-A555_X3-A647.lif [Mark_and_Find_001/Position004] Dimensions(z, c, t, x, y): 30, 4, 1, 1576, 1576\n",
      "20181012_S2Rplus_FISH_DAPI_X1-A488_X2-A555_X3-A647.lif [Mark_and_Find_001/Position005] Dimensions(z, c, t, x, y): 30, 4, 1, 1576, 1576\n",
      "20181012_S2Rplus_FISH_DAPI_X1-A488_X2-A555_X3-A647.lif [Mark_and_Find_001/Position006] Dimensions(z, c, t, x, y): 30, 4, 1, 1576, 1576\n",
      "20181012_S2Rplus_FISH_DAPI_X1-A488_X2-A555_X3-A647.lif [Mark_and_Find_001/Position007] Dimensions(z, c, t, x, y): 30, 4, 1, 1576, 1576\n",
      "20181012_S2Rplus_FISH_DAPI_X1-A488_X2-A555_X3-A647.lif [Mark_and_Find_001/Position008] Dimensions(z, c, t, x, y): 30, 4, 1, 1576, 1576\n",
      "20181012_S2Rplus_FISH_DAPI_X1-A488_X2-A555_X3-A647.lif [Mark_and_Find_001/Position009] Dimensions(z, c, t, x, y): 30, 4, 1, 1576, 1576\n",
      "20181012_S2Rplus_FISH_DAPI_X1-A488_X2-A555_X3-A647.lif [Mark_and_Find_001/Position010] Dimensions(z, c, t, x, y): 30, 4, 1, 1576, 1576\n",
      "20181012_S2Rplus_FISH_DAPI_X1-A488_X2-A555_X3-A647.lif [Mark_and_Find_001/Position011] Dimensions(z, c, t, x, y): 30, 4, 1, 1576, 1576\n",
      "20181012_S2Rplus_FISH_DAPI_X1-A488_X2-A555_X3-A647.lif [Mark_and_Find_001/Position012] Dimensions(z, c, t, x, y): 30, 4, 1, 1576, 1576\n"
     ]
    }
   ],
   "source": [
    "# Get all the images contained in the raw dataset\n",
    "raw_dataset = omero.get_dataset(connection=conn, dataset_id=RAW_DATASET_ID)\n",
    "raw_images = omero.get_dataset_images(dataset=raw_dataset)\n",
    "raw_images = list(raw_images)\n",
    "\n",
    "print('RAW IMAGES')\n",
    "for image in raw_images:\n",
    "    print(f'{image.getName()} Dimensions(z, c, t, x, y): {image.getSizeZ()}, {image.getSizeC()}, {image.getSizeT()}, {image.getSizeX()}, {image.getSizeY()}')\n"
   ]
  },
  {
   "cell_type": "markdown",
   "metadata": {},
   "source": [
    "You should see a few of the raw images: 3-D stacks of 4 channels (DAPI, X1, X2 and X3) and\n",
    "\n",
    "### Exploring the raw values\n",
    "You may load a part of an image as a **_Numpy ndarray_** (n-dimensional array). \n",
    "This is Python's way to work very efficient with numeric matrices, and that is what an image is."
   ]
  },
  {
   "cell_type": "code",
   "execution_count": 4,
   "metadata": {
    "pycharm": {
     "is_executing": false,
     "name": "#%%\n"
    }
   },
   "outputs": [],
   "source": [
    "# you may use the 'range' optional parameters to get a specified plane or channel or a range (start_included, stop_not_included)\n",
    "raw_data = omero.get_intensities(raw_images[0],\n",
    "                                 z_range=(14, 17),  # requests planes 16 and 17 if you start counting with 1\n",
    "                                 c_range=0)  # This is the DAPI channel"
   ]
  },
  {
   "cell_type": "markdown",
   "metadata": {
    "pycharm": {
     "name": "#%% md\n"
    }
   },
   "source": [
    "You may now see the dimensions, ..."
   ]
  },
  {
   "cell_type": "code",
   "execution_count": 5,
   "metadata": {
    "pycharm": {
     "is_executing": false,
     "name": "#%%\n"
    }
   },
   "outputs": [
    {
     "name": "stdout",
     "output_type": "stream",
     "text": [
      "(3, 1, 1, 1576, 1576)\n"
     ]
    }
   ],
   "source": [
    "# The dimensions are stored in the following order (z, c, t, x, y)\n",
    "print(raw_data.shape)"
   ]
  },
  {
   "cell_type": "markdown",
   "metadata": {
    "pycharm": {
     "name": "#%% md\n"
    }
   },
   "source": [
    "... data type and raw values."
   ]
  },
  {
   "cell_type": "code",
   "execution_count": 6,
   "metadata": {
    "pycharm": {
     "is_executing": false,
     "name": "#%%\n"
    }
   },
   "outputs": [
    {
     "name": "stdout",
     "output_type": "stream",
     "text": [
      "uint16\n",
      "[[647 295 606 343 371 495  67 486 970 413]\n",
      " [ 87 511 382 677 505 456 180 346 330 364]\n",
      " [359 523 423 435  88  72  82 221   2 125]\n",
      " [222 140  68 321   0 196 153 295  48  79]\n",
      " [455 256 246   1  23 145   3  54 276 372]\n",
      " [157  23 174 186  54 417  47  18 100   4]\n",
      " [378 308 151 256   2 219   0   3  69 157]\n",
      " [ 56 210 247 140  39   3   3   4  97   2]\n",
      " [300   2   2  82 106 115 174  26   3   2]\n",
      " [ 31   1  36   5   1   3  75   3   3   3]\n",
      " [ 31  82  39   2  73  44 126 116 104   3]\n",
      " [  4 198   4   7 100   2   3   3   3   3]\n",
      " [106  31   4   1  18 238   2   3   4  61]\n",
      " [ 16 135   4  26  45   3   2   3   4   2]\n",
      " [  4   1 104   3  39   3   3   3 107   3]\n",
      " [  4  47   2   2   2   8 134   3   4   2]\n",
      " [ 27   1   4  69   4   6   2   2  26   1]\n",
      " [  2   4   4   8   3  15   4   3   4   3]\n",
      " [ 43  15  45  28  52   4   2   3   2   1]\n",
      " [ 37  76   5 101   4   1   5  52   3   4]]\n"
     ]
    }
   ],
   "source": [
    "print(raw_data.dtype)\n",
    "print(raw_data[0,           # the first plane 15. Note again the 0 based indexing.\n",
    "               0,           \n",
    "               0,           # time point 0\n",
    "               1100:1120,   # x pixels in the format from:until_but_excluded\n",
    "               90:100]      # for example from pixel 90 until pixel 100 (the pixel at position 100 is excluded)\n",
    "      )"
   ]
  },
  {
   "cell_type": "markdown",
   "metadata": {},
   "source": [
    "### Visualizing Numpy arrays\n",
    "You may have a more convenient visualization of these data by using any of the python plotting libraries.\n",
    "Python's standard library includes matplotlib. We imported previously *matplotlib.pyplot* as *plt* so let's use it."
   ]
  },
  {
   "cell_type": "code",
   "execution_count": 7,
   "metadata": {
    "pycharm": {
     "is_executing": false,
     "name": "#%%\n"
    }
   },
   "outputs": [
    {
     "data": {
      "image/png": "[encoded data removed]",
      "text/plain": [
       "<Figure size 432x288 with 1 Axes>"
      ]
     },
     "metadata": {
      "needs_background": "light"
     },
     "output_type": "display_data"
    }
   ],
   "source": [
    "# We create a plot of the image, a Max Intensity Projection for example\n",
    "MIP = raw_data.max(axis=0)  # specify the axis you want to use for the projection (c=0)\n",
    "plt.imshow(MIP.squeeze())  # Squeeze is removing all dimensions with size 1, they are not very useful\n",
    "\n",
    "# Creating the plot just creates it but you always have to show it\n",
    "plt.show()"
   ]
  },
  {
   "cell_type": "markdown",
   "metadata": {
    "pycharm": {
     "name": "#%% md\n"
    }
   },
   "source": [
    "matplotlib may create very complex publication-ready plots. You may have a look at what you may do in [here](https://matplotlib.org/gallery.html).\n",
    "\n",
    "## Running the analysis\n",
    "Before moving further we have to create a number of functions that are going to help us to simplify the logic of the analysis."
   ]
  },
  {
   "cell_type": "code",
   "execution_count": 8,
   "metadata": {
    "pycharm": {
     "name": "#%%\n"
    }
   },
   "outputs": [],
   "source": [
    "def run_ilastik(ilastik_path, input_path, model_path):\n",
    "    \"\"\"Run ilastik in a separate process in a synchronous way\n",
    "    \"\"\"\n",
    "    cmd = [ilastik_path,\n",
    "           '--headless',\n",
    "           f'--project={model_path}',\n",
    "           '--export_source=Probabilities',\n",
    "           '--output_format=numpy',\n",
    "           '--output_filename_format={dataset_dir}/{nickname}_Probabilities.npy',\n",
    "           '--export_dtype=uint8',\n",
    "           '--output_axis_order=zctyx',\n",
    "           input_path]\n",
    "    try:\n",
    "        subprocess.run(cmd, check=True, stdout=subprocess.PIPE).stdout\n",
    "    except subprocess.CalledProcessError as e:\n",
    "        print(f'Input command: {cmd}')\n",
    "        print()\n",
    "        print(f'Error: {e.output}')\n",
    "        print()\n",
    "        print(f'Command: {e.cmd}')\n",
    "        print()\n",
    "\n",
    "def load_models(dataset_id, path):\n",
    "    \"\"\"Downloads the model files associated to a dataset and returns a list with the paths\n",
    "    \"\"\"\n",
    "    dataset = conn.getObject(\"Dataset\", dataset_id)\n",
    "    file_paths = []\n",
    "    # Go through all the annotations on the Dataset\n",
    "    for ann in dataset.listAnnotations():\n",
    "        if isinstance(ann, omero.gw.FileAnnotationWrapper):\n",
    "            name = ann.getFile().getName()\n",
    "            # Select the ilastik project TODO: use namespace\n",
    "            if name.endswith(\".ilp\"):\n",
    "                file_path = os.path.join(path, name)\n",
    "                with open(str(file_path), 'wb') as f:\n",
    "                    for chunk in ann.getFileInChunks():\n",
    "                        f.write(chunk)\n",
    "                file_paths.append(file_path)\n",
    "    file_paths.sort()\n",
    "    return file_paths\n",
    "\n",
    "def segment_channel(channel, threshold=None, remove_border=False, low_corr_factor=1, high_corr_factor=1):\n",
    "    \"\"\"Segment a channel (3D numpy array)\n",
    "    \"\"\"\n",
    "    if threshold is None:\n",
    "        threshold = threshold_otsu(channel)\n",
    "\n",
    "    thresholded = apply_hysteresis_threshold(channel,\n",
    "                                             low=threshold * low_corr_factor,\n",
    "                                             high=threshold * high_corr_factor\n",
    "                                             )\n",
    "\n",
    "    thresholded = closing(thresholded)\n",
    "    if remove_border:\n",
    "        thresholded = clear_border(thresholded)\n",
    "    return label(thresholded)\n",
    "\n",
    "def segment_image(image,\n",
    "                  thresholds=None,\n",
    "                  low_corr_factors=None,\n",
    "                  high_corr_factors=None):\n",
    "    \"\"\"Segment an image and return a labels object.\n",
    "    Image must be provided as zcyx numpy array\n",
    "    \"\"\"\n",
    "    if low_corr_factors is None:\n",
    "        low_corr_factors = [.95] * image.shape[1]\n",
    "    if high_corr_factors is None:\n",
    "        high_corr_factors = [1.05] * image.shape[1]\n",
    "\n",
    "    if len(high_corr_factors) != image.shape[1] or len(low_corr_factors) != image.shape[1]:\n",
    "        raise Exception('The number of correction factors does not match the number of channels.')\n",
    "\n",
    "    # We create an empty array to store the output\n",
    "    labels_image = np.zeros_like(image, dtype=np.uint16)\n",
    "    for c in range(image.shape[1]):\n",
    "        threshold = thresholds[c] if thresholds is not None else None\n",
    "        labels_image[:, c, ...] = segment_channel(image[:, c, ...],\n",
    "                                                  threshold=threshold,\n",
    "                                                  low_corr_factor=low_corr_factors[c],\n",
    "                                                  high_corr_factor=high_corr_factors[c])\n",
    "    return labels_image\n",
    "\n",
    "def compute_channel_spots_properties(channel, label_channel):\n",
    "    \"\"\"Analyzes and extracts the properties of a single channel\"\"\"\n",
    "\n",
    "    ch_properties = []\n",
    "\n",
    "    regions = regionprops(label_channel, channel)\n",
    "\n",
    "    for region in regions:\n",
    "        ch_properties.append({'label': region.label,\n",
    "                              'area': region.area,\n",
    "                              # XY coordinates are swapped in a numpy array compared to an image\n",
    "                              'centroid': (region.centroid[0], region.centroid[1], region.centroid[1]),\n",
    "                              'weighted_centroid': (region.weighted_centroid[0], region.weighted_centroid[2], region.weighted_centroid[1]),\n",
    "                              'max_intensity': region.max_intensity,\n",
    "                              'mean_intensity': region.mean_intensity,\n",
    "                              'min_intensity': region.min_intensity\n",
    "                              })\n",
    "\n",
    "    return ch_properties\n",
    "\n",
    "def compute_distances_matrix(positions, sigma, pixel_size=None, remove_mcn=False):\n",
    "    \"\"\"Calculates Mutual Closest Neighbour distances between all channels and returns the values as\n",
    "    a list of tuples where the first element is a tuple with the channel combination (ch_A, ch_B) and the second is\n",
    "    a list of pairwise measurements where, for every spot s in ch_A:\n",
    "    - Positions of s (s_x, s_y, s_z)\n",
    "    - Weighted euclidean distance dst to the nearest spot in ch_B, t\n",
    "    - Index t_index of the nearest spot in ch_B\n",
    "    Like so:\n",
    "    [((ch_A, ch_B), [[(s_x, s_y, s_z), dst, t_index],...]),...]\n",
    "    \"\"\"\n",
    "    # TODO: Correct documentation\n",
    "    # Container for results\n",
    "    distances = []\n",
    "\n",
    "    if len(positions) < 2:\n",
    "        raise Exception('Not enough dimensions to do a distance measurement')\n",
    "\n",
    "    channel_permutations = list(permutations(range(len(positions)), 2))\n",
    "\n",
    "    # Create a space to hold the distances. For every channel permutation (a, b) we want to store:\n",
    "    # Coordinates of a\n",
    "    # Distance to the closest spot in b\n",
    "    # Index of the nearest spot in b\n",
    "\n",
    "    if not pixel_size:\n",
    "        pixel_size = np.array((1, 1, 1))\n",
    "        # TODO: log warning\n",
    "    else:\n",
    "        pixel_size = np.array(pixel_size)\n",
    "\n",
    "    for a, b in channel_permutations:\n",
    "        # TODO: Try this\n",
    "        # TODO: Make explicit arguments of cdist\n",
    "        distances_matrix = cdist(positions[a], positions[b], w=pixel_size)\n",
    "\n",
    "        pairwise_distances = {'channels': (a, b),\n",
    "                              'coord_A': list(),\n",
    "                              'dist_3d': list(),\n",
    "                              'index_A': list(),\n",
    "                              'index_B': list()\n",
    "                              }\n",
    "        for index_a, (p, d) in enumerate(zip(positions[a], distances_matrix)):\n",
    "            if d.min() < sigma:\n",
    "                # We remove the mutual closest neighbours\n",
    "                if remove_mcn and distances_matrix[:, d.argmin()].argmin() != index_a:\n",
    "                    continue\n",
    "                else:\n",
    "                    pairwise_distances['coord_A'].append(tuple(p))\n",
    "                    pairwise_distances['dist_3d'].append(d.min())\n",
    "                    pairwise_distances['index_A'].append(index_a)\n",
    "                    pairwise_distances['index_B'].append(d.argmin())\n",
    "\n",
    "        distances.append(pairwise_distances)\n",
    "\n",
    "    return distances\n",
    "\n",
    "def run_image_analysis(raw_data, prob_data, pixel_size, size_thresholds, thresholds=None,\n",
    "                       up_threshold_corrections=None, low_threshold_corrections=None, min_distance=None):\n",
    "    \"\"\"This function encapsulates our analysis of a single OMERO image\"\"\"\n",
    "\n",
    "    # We create an empty lists to store the different measurements of the spots\n",
    "    spots_props = []\n",
    "\n",
    "    # We segment the probabilities images\n",
    "    labels = segment_image(image=prob_data.squeeze(), thresholds=thresholds,\n",
    "                           low_corr_factors=low_threshold_corrections,\n",
    "                           high_corr_factors=up_threshold_corrections)\n",
    "\n",
    "    # The labels object contains now the segmentation masks for every found object\n",
    "    # We use it to calculate the properties of every object using the raw data:\n",
    "    for ch in range(labels.shape[1])[1:]:  # with this notation here we skip the DAPI channel in position 0\n",
    "\n",
    "        spots_props_channel = compute_channel_spots_properties(channel=raw_data[:, ch, ...].squeeze(),\n",
    "                                                               label_channel=labels[:, ch, ...])\n",
    "\n",
    "        # We can filter out the spots that are too small\n",
    "        for i in reversed(range(len(spots_props_channel))):\n",
    "            if spots_props_channel[i]['area'] < size_thresholds[ch - 1]:\n",
    "                del spots_props_channel[i]\n",
    "\n",
    "        # We append the spots properties and positions to the lists containing the image measurements\n",
    "        spots_props.append(spots_props_channel)\n",
    "\n",
    "    # We have all the information collected for every channel we can now apply a function to measure the pairwise distances between the spots\n",
    "    spots_pos = [np.array([x['weighted_centroid'] for x in p]) for p in spots_props]\n",
    "\n",
    "    pairwise_distances = compute_distances_matrix(positions=spots_pos,\n",
    "                                                  sigma=min_distance,  # this marks a threshold for the distances that are going to be accepted\n",
    "                                                  pixel_size=pixel_size,\n",
    "                                                  remove_mcn=True)\n",
    "    return pairwise_distances\n",
    "\n",
    "def clean_image_name(image_name):\n",
    "    \"\"\"Cleans the odd naming of lif files\"\"\"\n",
    "    filename, file_extension = os.path.splitext(image_name)\n",
    "    filename = filename.replace('/', '_')\n",
    "    filename = filename.replace('.lif [', '_')\n",
    "    filename = filename.replace(']', '')\n",
    "\n",
    "    return filename\n"
   ]
  },
  {
   "cell_type": "markdown",
   "metadata": {
    "pycharm": {
     "name": "#%% md\n"
    }
   },
   "source": [
    "We want to get the models that have been previously trained to clasify the pixels of our images.\n",
    "Each model is supposed to be used on a channel of combination of channels adn we want to tell our scipt how."
   ]
  },
  {
   "cell_type": "code",
   "execution_count": 9,
   "metadata": {
    "pycharm": {
     "name": "#%%\n"
    }
   },
   "outputs": [
    {
     "name": "stdout",
     "output_type": "stream",
     "text": [
      "/run/media/julio/DATA/Quentin/temp/Ch0_model.ilp\n",
      "Channels affected in the right order and separated by: 0\n",
      "/run/media/julio/DATA/Quentin/temp/Ch1_model.ilp\n",
      "Channels affected in the right order and separated by: 0,1\n",
      "/run/media/julio/DATA/Quentin/temp/Ch2_model.ilp\n",
      "Channels affected in the right order and separated by: 0,2\n",
      "/run/media/julio/DATA/Quentin/temp/Ch3_model.ilp\n",
      "Channels affected in the right order and separated by: 0,3\n"
     ]
    }
   ],
   "source": [
    "model_files = load_models(RAW_DATASET_ID, TEMP_DIR)\n",
    "model_to_channels = {}\n",
    "for file in model_files:\n",
    "    print(file)\n",
    "    model_to_channels[file] = eval(input('Channels affected in the right order and separated by: '))"
   ]
  },
  {
   "cell_type": "markdown",
   "metadata": {},
   "source": [
    "## Analyzing the images\n",
    "Now we have everything ready to start our image analysis. We want to:\n",
    "- Analyze each image using the pretrained model to obtain images representing the probabilities of a pixel to belong to a object type\n",
    "- Store those images into a separate dataset named '_PROB'\n",
    "- Segment each channel using the probability values extracted by Ilastik instead of the raw values.\n",
    "- Save that segmentation into OMERO.\n",
    "- While we still have the images in memory, we would like to calculate the centroids of the spots this time \n",
    "using the raw pixel values.\n",
    "- We will save the centroid coordinates as a table associated to every image.\n",
    "\n",
    "For most of the image analysis we are going to use scikit-image, a python image analysis library built on top of numpy.\n",
    "We will have to fix, for each channel:\n",
    " - an upper threshold marking what is going to be defined as an object\n",
    " - a lower threshold marking until what probability the object is going to segment\n",
    "\n",
    "### Running the analysis\n",
    "Now we have created a function we can apply it to every image in the dataset and collect the results.\n",
    "\n",
    "Note that this analysis might be more or less slow depending on:\n",
    "- the speed of the connection between the OMERO and Jupyter servers and\n",
    "- the CPU specs associated to the Jupyter python kernel.\n",
    "\n",
    "However, this is not how you are going to analyze large amounts of data. Typically, you are going to deploy the execution of the most demanding tasks to either:\n",
    "- different execution threads (for example, one thread reading the data from OMERO and another thread doing the calculations)\n",
    "- different CPU processes (for heavier calculations)\n",
    "- a HPC cluster (for even heavier calculations)\n",
    "- or to the GPU (for heavy calculations that can take advantage of these, for example when implementing deep learning)"
   ]
  },
  {
   "cell_type": "code",
   "execution_count": 10,
   "metadata": {
    "pycharm": {
     "is_executing": false,
     "name": "#%%\n"
    }
   },
   "outputs": [
    {
     "data": {
      "application/vnd.jupyter.widget-view+json": {
       "model_id": "69665d2ddc5f49b38e33c072ea5e85ac",
       "version_major": 2,
       "version_minor": 0
      },
      "text/plain": [
       "IntProgress(value=0, description='Progress: ', max=12)"
      ]
     },
     "metadata": {},
     "output_type": "display_data"
    }
   ],
   "source": [
    "# Let's fix the probability hysteresis thresholds at which we want to segment.\n",
    "# There will be an upper threshold and a lower threshold per channel.\n",
    "thresholds = (220, 220, 220, 220)\n",
    "up_threshold_corrections = (1.1, 1.1, 1.1, 1.1)\n",
    "low_threshold_corrections = (0.8, 0.8, 0.8, 0.8)\n",
    "\n",
    "# We are going to use a size filter to remove the objects that are too small\n",
    "size_thresholds = (500, 500, 500)\n",
    "\n",
    "# We should define a minimum distance threshold, in the same units as the data\n",
    "min_distance = 100\n",
    "\n",
    "# A list to contain all of the distances\n",
    "pairwise_distances_dataset = []\n",
    "\n",
    "# We create here a small widget to follow the progress\n",
    "progress = widgets.IntProgress(value=0, min=0, max=len(raw_images), description='Progress: ')\n",
    "display(progress)\n",
    "\n",
    "# Let's create a new dataset in OMERO to store the probability images\n",
    "prob_dataset = omero.create_dataset(connection=conn,\n",
    "                                    name=f'{raw_dataset.getName()}_PROB',\n",
    "                                    description=f'Source dataset id: {raw_dataset.getId()}',\n",
    "                                    parent_project=raw_dataset.getParent())\n",
    "\n",
    "# Let's loop through our images\n",
    "for raw_image in raw_images:\n",
    "    raw_data = omero.get_intensities(raw_image)\n",
    "    prob_data = np.zeros_like(raw_data, dtype='uint8')\n",
    "    for out_channel, (model, in_channels) in enumerate(model_to_channels.items()):\n",
    "        input_file = os.path.join(TEMP_DIR, f'{in_channels}')\n",
    "        np.save(input_file, raw_data[:,in_channels,...])\n",
    "        run_ilastik(ILASTIK_PATH, f'{input_file}.npy', model)\n",
    "        ilastik_output = np.load(f'{input_file}_Probabilities.npy')\n",
    "        prob_data[:,out_channel,...] = ilastik_output[:,0,...]\n",
    "\n",
    "    omero.create_image_from_numpy_array(connection=conn,\n",
    "                                        data=prob_data,\n",
    "                                        image_name=clean_image_name(raw_image.getName()),\n",
    "                                        image_description=f'Source image id: {raw_image.getId()}',\n",
    "                                        dataset=prob_dataset,\n",
    "                                        source_image_id=raw_image.getId(),\n",
    "                                        )\n",
    "\n",
    "    # We need the pixel sizes\n",
    "    pixel_size = omero.get_pixel_size(raw_image)\n",
    "\n",
    "    calculated_distances = run_image_analysis(raw_data=raw_data,\n",
    "                                              prob_data=prob_data,\n",
    "                                              pixel_size=pixel_size,\n",
    "                                              size_thresholds=size_thresholds,\n",
    "                                              up_threshold_corrections=up_threshold_corrections,\n",
    "                                              low_threshold_corrections=low_threshold_corrections,\n",
    "                                              min_distance=min_distance)\n",
    "\n",
    "    pairwise_distances_dataset.append(calculated_distances)\n",
    "\n",
    "    # Update the progress bar\n",
    "    progress.value += 1\n",
    "\n",
    "# Save the data temporarily\n",
    "with open(os.path.join(TEMP_DIR, 'data.pkl'), 'wb') as output:\n",
    "    pickle.dump(pairwise_distances_dataset, output, pickle.HIGHEST_PROTOCOL)"
   ]
  },
  {
   "cell_type": "markdown",
   "metadata": {
    "pycharm": {
     "name": "#%% md\n"
    }
   },
   "source": [
    "Now we have a rather complex list of lists of dictionaries containing all the relevant data. \n",
    "For every combination of channels a and b we know:\n",
    "- the id of the spot in channel a\n",
    "- the 3D coordinates of the centroid of that spot (z, x and y)\n",
    "- the 3D distance to the closest spot in channel b\n",
    "- the id of the closest spot in channel b\n",
    "\n",
    "Here is how the data is arranged:\n",
    "- list: [image0, image1, image2...]\n",
    "    - list: [ch_1 vs ch_2, ch_1 vs ch_2, ch_2 vs ch_1,...]\n",
    "        - dictionary: {channels, coord_A, dist_3d, index_A, index_B}\n",
    "\n",
    "We can request some of these data. For example for image 1 and channels 2 and 3"
   ]
  },
  {
   "cell_type": "code",
   "execution_count": 11,
   "metadata": {
    "pycharm": {
     "is_executing": false,
     "name": "#%%\n"
    }
   },
   "outputs": [
    {
     "name": "stdout",
     "output_type": "stream",
     "text": [
      "A_ID\tB_ID\tA_xyz_coord\t\t\tAB_distance_3D\n",
      "0\t0\t672.3841, 318.9275, 9.6626\t1.4458856743672577\n",
      "5\t5\t1048.2813, 1488.6058, 14.2933\t2.3404081120121534\n",
      "6\t4\t1567.6281, 803.5909, 16.6427\t2.1600176033571814\n",
      "7\t10\t992.5460, 266.3971, 17.6948\t1.2329977994700803\n",
      "9\t14\t1404.6303, 583.4292, 19.6875\t1.1334670624392456\n",
      "10\t19\t14.9931, 1262.3858, 19.9200\t2.568453691840044\n",
      "11\t16\t610.9862, 616.1754, 19.4468\t0.43012779791524636\n",
      "12\t21\t994.1888, 575.5022, 22.8372\t2.943252891334705\n",
      "13\t23\t831.0512, 179.7722, 25.7045\t2.444479903424946\n",
      "14\t20\t147.7992, 1441.4448, 21.9920\t3.635013950601564\n",
      "15\t24\t957.6302, 726.4540, 26.1505\t2.2917846846083227\n",
      "16\t26\t1151.6762, 815.9627, 26.8263\t1.6298750322622046\n"
     ]
    }
   ],
   "source": [
    "image_nr = 0\n",
    "channels = (1, 2)\n",
    "\n",
    "print('A_ID\\tB_ID\\tA_xyz_coord\\t\\t\\tAB_distance_3D')\n",
    "for distances in pairwise_distances_dataset[image_nr]:\n",
    "    if distances['channels'] == channels:\n",
    "        for coord_A, dist_3d, index_A, index_B in zip(distances['coord_A'], \n",
    "                                                      distances['dist_3d'], \n",
    "                                                      distances['index_A'], \n",
    "                                                      distances['index_B']):\n",
    "            print(f'{index_A}\\t{index_B}\\t{coord_A[1]:.4f}, {coord_A[2]:.4f}, {coord_A[0]:.4f}\\t{dist_3d}')\n",
    "        break"
   ]
  },
  {
   "cell_type": "markdown",
   "metadata": {
    "pycharm": {
     "name": "#%% md\n"
    }
   },
   "source": [
    "## Storing the data back into OMERO\n",
    "We have all the data now, and we can store them back into OMERO\n",
    "\n",
    "### Storing the spots as ROIs\n",
    "We can, for example save every spot as a point ROI associated to the image"
   ]
  },
  {
   "cell_type": "code",
   "execution_count": 12,
   "metadata": {
    "pycharm": {
     "is_executing": false,
     "name": "#%%\n"
    }
   },
   "outputs": [],
   "source": [
    "for distances, raw_image in zip(pairwise_distances_dataset, raw_images):\n",
    "    \n",
    "    # We loop over every distance pair, create a 'point shape' and add it to the list\n",
    "    for distance_pair in distances:\n",
    "\n",
    "        # We create an empty list to put all the points\n",
    "        point_shapes = list()\n",
    "\n",
    "        for (z, x, y), id_a in zip(distance_pair['coord_A'], distance_pair['index_A']):\n",
    "            point = omero.create_shape_point(x_pos=x,\n",
    "                                             y_pos=y,\n",
    "                                             z_pos=int(z) - 1,  # z position must be entered as an integer\n",
    "                                             t_pos=0,\n",
    "                                             name=f'Ch:{1 + distance_pair[\"channels\"][0]}_id:{id_a}')\n",
    "            point_shapes.append(point)\n",
    "\n",
    "        # We create a ROI containing all of these points. Alternatively, we could create a ROI per point.\n",
    "        roi = omero.create_roi(connection=conn,\n",
    "                               image=raw_image,\n",
    "                               shapes=point_shapes)"
   ]
  },
  {
   "cell_type": "markdown",
   "metadata": {
    "pycharm": {
     "name": "#%% md\n"
    }
   },
   "source": [
    "### Storing data as a table\n",
    "You may store large amounts of data in *_OMERO.tables_*. Let's store the distances as a table.\n",
    "\n",
    "First we have to extract the data properly. We will need:\n",
    "- A list with the column names\n",
    "- A list with the column descriptions (optional).\n",
    "- A list of columns where every column is a list with the values\n",
    "\n",
    "We will store:\n",
    "- Channel (a) where the spot is located\n",
    "- Channel (b) where the closest spot is located\n",
    "- Coordinates of the spot\n",
    "- Units of the coordinates\n",
    "- 3D-distance to the closest spot\n",
    "- Units of the Distance"
   ]
  },
  {
   "cell_type": "code",
   "execution_count": 13,
   "metadata": {
    "pycharm": {
     "is_executing": false,
     "name": "#%%\n"
    }
   },
   "outputs": [],
   "source": [
    "# We create the list with the column names\n",
    "col_names = ['image_id',\n",
    "             'channel_a', \n",
    "             'channel_b', \n",
    "             'coord_z',\n",
    "             'coord_x',\n",
    "             'coord_y',\n",
    "             'coord_units',  # Measurement make no sense without the units\n",
    "             'mcn_dist_3d',\n",
    "             'mcn_dist_3d_units',\n",
    "             ]\n",
    "\n",
    "# We create the list with the column names\n",
    "col_desc = ['ID of the image',\n",
    "            'Channel where the spot is located', \n",
    "            'Channel where the mutual closest neighbour spot is located', \n",
    "            'Z position of the weighted centroid of the spot',\n",
    "            'X position of the weighted centroid of the spot',\n",
    "            'Y position of the weighted centroid of the spot',\n",
    "            'Position units',\n",
    "            '3D distance to the mutual closes neighbour (MCN)',\n",
    "            '3D MCN distance units',\n",
    "            ]\n",
    "\n",
    "# We create a list of lists to hold the data\n",
    "col_data = [list() for e in col_names]\n",
    "\n",
    "# Let's loop through distances and images to populate the data in th column\n",
    "for raw_image, distances in zip(raw_images, pairwise_distances_dataset):\n",
    "    for distance_pair in distances:\n",
    "        for i in range(len(distance_pair['dist_3d'])):\n",
    "            col_data[0].append(raw_image.getId())\n",
    "            col_data[1].append(1 + distance_pair['channels'][0])\n",
    "            col_data[2].append(1 + distance_pair['channels'][1])\n",
    "            col_data[3].append(distance_pair['coord_A'][i][0].item())\n",
    "            col_data[4].append(distance_pair['coord_A'][i][1].item())\n",
    "            col_data[5].append(distance_pair['coord_A'][i][2].item())\n",
    "            col_data[6].append('PIXEL')\n",
    "            col_data[7].append(distance_pair['dist_3d'][i].item())\n",
    "            # Note that OMERO provides the pixel size units for each axis. We assume here that the unit is the same for each axis\n",
    "            col_data[8].append(omero.get_pixel_size_units(raw_image)[0])"
   ]
  },
  {
   "cell_type": "markdown",
   "metadata": {
    "pycharm": {
     "name": "#%% md\n"
    }
   },
   "source": [
    "Now we are ready to save this table to OMERO and link it to the original dataset"
   ]
  },
  {
   "cell_type": "code",
   "execution_count": 14,
   "metadata": {
    "pycharm": {
     "is_executing": false,
     "name": "#%%\n"
    }
   },
   "outputs": [
    {
     "ename": "TypeError",
     "evalue": "Could not detect column datatype for column coord_z",
     "output_type": "error",
     "traceback": [
      "\u001B[0;31m---------------------------------------------------------------------------\u001B[0m",
      "\u001B[0;31mTypeError\u001B[0m                                 Traceback (most recent call last)",
      "\u001B[0;32m<ipython-input-14-1544ad064d2d>\u001B[0m in \u001B[0;36m<module>\u001B[0;34m\u001B[0m\n\u001B[1;32m      3\u001B[0m                                             \u001B[0mcolumn_names\u001B[0m\u001B[0;34m=\u001B[0m\u001B[0mcol_names\u001B[0m\u001B[0;34m,\u001B[0m\u001B[0;34m\u001B[0m\u001B[0;34m\u001B[0m\u001B[0m\n\u001B[1;32m      4\u001B[0m                                             \u001B[0mcolumn_descriptions\u001B[0m\u001B[0;34m=\u001B[0m\u001B[0mcol_desc\u001B[0m\u001B[0;34m,\u001B[0m\u001B[0;34m\u001B[0m\u001B[0;34m\u001B[0m\u001B[0m\n\u001B[0;32m----> 5\u001B[0;31m                                             values=col_data)\n\u001B[0m\u001B[1;32m      6\u001B[0m \u001B[0;34m\u001B[0m\u001B[0m\n\u001B[1;32m      7\u001B[0m \u001B[0momero\u001B[0m\u001B[0;34m.\u001B[0m\u001B[0mlink_annotation\u001B[0m\u001B[0;34m(\u001B[0m\u001B[0mraw_dataset\u001B[0m\u001B[0;34m,\u001B[0m \u001B[0mOMERO_table\u001B[0m\u001B[0;34m)\u001B[0m\u001B[0;34m\u001B[0m\u001B[0;34m\u001B[0m\u001B[0m\n",
      "\u001B[0;32m~/PycharmProjects/omero-guide-python/notebooks/omero_toolbox.py\u001B[0m in \u001B[0;36mcreate_annotation_table\u001B[0;34m(connection, table_name, column_names, column_descriptions, values, namespace, table_description)\u001B[0m\n\u001B[1;32m    794\u001B[0m     columns = _create_table(column_names=column_names,\n\u001B[1;32m    795\u001B[0m                             \u001B[0mcolumns_descriptions\u001B[0m\u001B[0;34m=\u001B[0m\u001B[0mcolumn_descriptions\u001B[0m\u001B[0;34m,\u001B[0m\u001B[0;34m\u001B[0m\u001B[0;34m\u001B[0m\u001B[0m\n\u001B[0;32m--> 796\u001B[0;31m                             values=values)\n\u001B[0m\u001B[1;32m    797\u001B[0m     \u001B[0mresources\u001B[0m \u001B[0;34m=\u001B[0m \u001B[0mconnection\u001B[0m\u001B[0;34m.\u001B[0m\u001B[0mc\u001B[0m\u001B[0;34m.\u001B[0m\u001B[0msf\u001B[0m\u001B[0;34m.\u001B[0m\u001B[0msharedResources\u001B[0m\u001B[0;34m(\u001B[0m\u001B[0;34m)\u001B[0m\u001B[0;34m\u001B[0m\u001B[0;34m\u001B[0m\u001B[0m\n\u001B[1;32m    798\u001B[0m     \u001B[0mrepository_id\u001B[0m \u001B[0;34m=\u001B[0m \u001B[0mresources\u001B[0m\u001B[0;34m.\u001B[0m\u001B[0mrepositories\u001B[0m\u001B[0;34m(\u001B[0m\u001B[0;34m)\u001B[0m\u001B[0;34m.\u001B[0m\u001B[0mdescriptions\u001B[0m\u001B[0;34m[\u001B[0m\u001B[0;36m0\u001B[0m\u001B[0;34m]\u001B[0m\u001B[0;34m.\u001B[0m\u001B[0mgetId\u001B[0m\u001B[0;34m(\u001B[0m\u001B[0;34m)\u001B[0m\u001B[0;34m.\u001B[0m\u001B[0mgetValue\u001B[0m\u001B[0;34m(\u001B[0m\u001B[0;34m)\u001B[0m\u001B[0;34m\u001B[0m\u001B[0;34m\u001B[0m\u001B[0m\n",
      "\u001B[0;32m~/PycharmProjects/omero-guide-python/notebooks/omero_toolbox.py\u001B[0m in \u001B[0;36m_create_table\u001B[0;34m(column_names, columns_descriptions, values, types)\u001B[0m\n\u001B[1;32m    778\u001B[0m                 \u001B[0;32mraise\u001B[0m \u001B[0mTypeError\u001B[0m\u001B[0;34m(\u001B[0m\u001B[0;34mf'Error on column {cn}. Datatype not implemented for array columns'\u001B[0m\u001B[0;34m)\u001B[0m\u001B[0;34m\u001B[0m\u001B[0;34m\u001B[0m\u001B[0m\n\u001B[1;32m    779\u001B[0m         \u001B[0;32melse\u001B[0m\u001B[0;34m:\u001B[0m\u001B[0;34m\u001B[0m\u001B[0;34m\u001B[0m\u001B[0m\n\u001B[0;32m--> 780\u001B[0;31m             \u001B[0;32mraise\u001B[0m \u001B[0mTypeError\u001B[0m\u001B[0;34m(\u001B[0m\u001B[0;34mf'Could not detect column datatype for column {cn}'\u001B[0m\u001B[0;34m)\u001B[0m\u001B[0;34m\u001B[0m\u001B[0;34m\u001B[0m\u001B[0m\n\u001B[0m\u001B[1;32m    781\u001B[0m \u001B[0;34m\u001B[0m\u001B[0m\n\u001B[1;32m    782\u001B[0m     \u001B[0;32mreturn\u001B[0m \u001B[0mcolumns\u001B[0m\u001B[0;34m\u001B[0m\u001B[0;34m\u001B[0m\u001B[0m\n",
      "\u001B[0;31mTypeError\u001B[0m: Could not detect column datatype for column coord_z"
     ]
    }
   ],
   "source": [
    "OMERO_table = omero.create_annotation_table(connection=conn,\n",
    "                                            table_name='Distances_table_V1',\n",
    "                                            column_names=col_names,\n",
    "                                            column_descriptions=col_desc,\n",
    "                                            values=col_data)\n",
    "\n",
    "omero.link_annotation(raw_dataset, OMERO_table)"
   ]
  },
  {
   "cell_type": "markdown",
   "metadata": {},
   "source": [
    "## Closing the connection\n",
    "Let's clean up after our selves"
   ]
  },
  {
   "cell_type": "code",
   "execution_count": 15,
   "metadata": {
    "pycharm": {
     "is_executing": false,
     "name": "#%%\n"
    }
   },
   "outputs": [
    {
     "name": "stderr",
     "output_type": "stream",
     "text": [
      "WARNING:omero.client:Cannot get session service for killSession. Using closeSession\n"
     ]
    },
    {
     "name": "stdout",
     "output_type": "stream",
     "text": [
      "Connected? False\n"
     ]
    }
   ],
   "source": [
    "# Closing the connection to OMERO\n",
    "conn.close()\n",
    "\n",
    "# And verifying tha it closed\n",
    "print(f'Connected? {conn.isConnected()}')\n"
   ]
  },
  {
   "cell_type": "code",
   "execution_count": null,
   "metadata": {},
   "outputs": [],
   "source": []
  }
 ],
 "metadata": {
  "kernelspec": {
   "display_name": "Python 3",
   "language": "python",
   "name": "python3"
  },
  "language_info": {
   "codemirror_mode": {
    "name": "ipython",
    "version": 3
   },
   "file_extension": ".py",
   "mimetype": "text/x-python",
   "name": "python",
   "nbconvert_exporter": "python",
   "pygments_lexer": "ipython3",
   "version": "3.6.12"
  }
 },
 "nbformat": 4,
 "nbformat_minor": 1
}